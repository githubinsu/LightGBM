{
 "cells": [
  {
   "cell_type": "code",
   "execution_count": 1,
   "id": "629a6cc9",
   "metadata": {},
   "outputs": [],
   "source": [
    "import pandas as pd\n",
    "import numpy as np\n",
    "\n",
    "from lightgbm import LGBMClassifier\n",
    "from sklearn.model_selection import train_test_split\n",
    "from sklearn.metrics import accuracy_score\n",
    "from sklearn.metrics import f1_score\n",
    "from skopt import BayesSearchCV\n",
    "from skopt.space import Real, Integer\n",
    "\n",
    "from tensorflow.keras.preprocessing.sequence import pad_sequences\n",
    "\n",
    "from sklearn.preprocessing import LabelEncoder"
   ]
  },
  {
   "cell_type": "code",
   "execution_count": 2,
   "id": "71ef0dfa",
   "metadata": {},
   "outputs": [],
   "source": [
    "pd.options.display.max_rows = 1000"
   ]
  },
  {
   "cell_type": "code",
   "execution_count": 5,
   "id": "d14f27b0",
   "metadata": {},
   "outputs": [],
   "source": [
    "df0 = pd.read_excel('train_data_2023.xlsx').tail(100000)"
   ]
  },
  {
   "cell_type": "code",
   "execution_count": 8,
   "id": "84e562d5",
   "metadata": {},
   "outputs": [],
   "source": [
    "# 고객별 구매 빈도 확인 위한 pivoting\n",
    "df_pivot2 = df0.pivot_table(index = 'Customer_ID', values = 'Product_No', aggfunc = 'count')"
   ]
  },
  {
   "cell_type": "code",
   "execution_count": 9,
   "id": "fb1feb92",
   "metadata": {},
   "outputs": [
    {
     "data": {
      "text/plain": [
       "count    41147.000000\n",
       "mean         2.430311\n",
       "std          3.851730\n",
       "min          1.000000\n",
       "25%          1.000000\n",
       "50%          2.000000\n",
       "75%          3.000000\n",
       "max        402.000000\n",
       "Name: Product_No, dtype: float64"
      ]
     },
     "execution_count": 9,
     "metadata": {},
     "output_type": "execute_result"
    }
   ],
   "source": [
    "# IQR 기준 이상치 판단(Q3 + (Q3 - Q1)*1.5)\n",
    "df_pivot2['Product_No'].describe()"
   ]
  },
  {
   "cell_type": "code",
   "execution_count": 12,
   "id": "e876d926",
   "metadata": {},
   "outputs": [],
   "source": [
    "# 2번 이상 구매 고객 sorting, 이상치 제거\n",
    "member_index2 = df_pivot2[(df_pivot2['Product_No'] > 1)&(df_pivot2['Product_No'] < 5)].index\n",
    "df = df0[df0['Customer_ID'].isin(member_index2)]"
   ]
  },
  {
   "cell_type": "code",
   "execution_count": 13,
   "id": "9dc0250c",
   "metadata": {},
   "outputs": [
    {
     "name": "stderr",
     "output_type": "stream",
     "text": [
      "C:\\Users\\J13868\\AppData\\Local\\Temp\\ipykernel_19688\\1267521601.py:7: SettingWithCopyWarning: \n",
      "A value is trying to be set on a copy of a slice from a DataFrame.\n",
      "Try using .loc[row_indexer,col_indexer] = value instead\n",
      "\n",
      "See the caveats in the documentation: https://pandas.pydata.org/pandas-docs/stable/user_guide/indexing.html#returning-a-view-versus-a-copy\n",
      "  df.loc[:, 'CTG'] = encoder1.fit_transform(df['CTG'])\n",
      "C:\\Users\\J13868\\AppData\\Local\\Temp\\ipykernel_19688\\1267521601.py:7: DeprecationWarning: In a future version, `df.iloc[:, i] = newvals` will attempt to set the values inplace instead of always setting a new array. To retain the old behavior, use either `df[df.columns[i]] = newvals` or, if columns are non-unique, `df.isetitem(i, newvals)`\n",
      "  df.loc[:, 'CTG'] = encoder1.fit_transform(df['CTG'])\n",
      "C:\\Users\\J13868\\AppData\\Local\\Temp\\ipykernel_19688\\1267521601.py:10: SettingWithCopyWarning: \n",
      "A value is trying to be set on a copy of a slice from a DataFrame.\n",
      "Try using .loc[row_indexer,col_indexer] = value instead\n",
      "\n",
      "See the caveats in the documentation: https://pandas.pydata.org/pandas-docs/stable/user_guide/indexing.html#returning-a-view-versus-a-copy\n",
      "  df.loc[:, 'Sub_CTG'] = encoder2.fit_transform(df['Sub_CTG'])\n",
      "C:\\Users\\J13868\\AppData\\Local\\Temp\\ipykernel_19688\\1267521601.py:10: DeprecationWarning: In a future version, `df.iloc[:, i] = newvals` will attempt to set the values inplace instead of always setting a new array. To retain the old behavior, use either `df[df.columns[i]] = newvals` or, if columns are non-unique, `df.isetitem(i, newvals)`\n",
      "  df.loc[:, 'Sub_CTG'] = encoder2.fit_transform(df['Sub_CTG'])\n",
      "C:\\Users\\J13868\\AppData\\Local\\Temp\\ipykernel_19688\\1267521601.py:13: SettingWithCopyWarning: \n",
      "A value is trying to be set on a copy of a slice from a DataFrame.\n",
      "Try using .loc[row_indexer,col_indexer] = value instead\n",
      "\n",
      "See the caveats in the documentation: https://pandas.pydata.org/pandas-docs/stable/user_guide/indexing.html#returning-a-view-versus-a-copy\n",
      "  df.loc[:, 'Order_Date'] = pd.to_numeric(df['Order_Date'])\n"
     ]
    }
   ],
   "source": [
    "# CTG, Sub_CTG 인코딩 및 datetime data numeric으로 변환\n",
    "encoder1 = LabelEncoder()\n",
    "encoder2 = LabelEncoder()\n",
    "\n",
    "df.loc[:, 'CTG'] = encoder1.fit_transform(df['CTG'])\n",
    "\n",
    "df.loc[:, 'Sub_CTG'] = encoder2.fit_transform(df['Sub_CTG'])\n",
    "\n",
    "df.loc[:, 'Order_Date'] = pd.to_numeric(df['Order_Date'])"
   ]
  },
  {
   "cell_type": "code",
   "execution_count": 14,
   "id": "8083b4c5",
   "metadata": {},
   "outputs": [],
   "source": [
    "# 각 고객의 구매 이력을 시계열 데이터로 변환\n",
    "X = []\n",
    "y = []\n",
    "member_ids = []\n",
    "maxlen = 0\n",
    "for member_id in df['Customer_ID'].unique():\n",
    "    member_df = df[df['Customer_ID'] == member_id].sort_values('Order_Date')\n",
    "    for i in range(len(member_df) - 1):\n",
    "        X.append(member_df.iloc[:i+1][['Product_No', 'CTG', 'Sub_CTG' ]].values)\n",
    "        y.append(member_df.iloc[i+1]['CTG'])\n",
    "        member_ids.append(member_id)\n",
    "        maxlen = max(maxlen, i+1)\n",
    "\n",
    "# 시계열 데이터를 동일한 길이로 패딩\n",
    "X = pad_sequences(X, maxlen=maxlen, dtype='float32')\n",
    "\n",
    "X[np.isnan(X)] = 0"
   ]
  },
  {
   "cell_type": "code",
   "execution_count": 15,
   "id": "413e1d71",
   "metadata": {},
   "outputs": [
    {
     "name": "stdout",
     "output_type": "stream",
     "text": [
      "[LightGBM] [Warning] feature_fraction is set=0.75, colsample_bytree=1.0 will be ignored. Current value: feature_fraction=0.75\n",
      "[LightGBM] [Warning] min_data_in_leaf is set=30, min_child_samples=20 will be ignored. Current value: min_data_in_leaf=30\n",
      "[LightGBM] [Warning] bagging_fraction is set=0.6, subsample=1.0 will be ignored. Current value: bagging_fraction=0.6\n"
     ]
    },
    {
     "data": {
      "text/html": [
       "<style>#sk-container-id-1 {color: black;background-color: white;}#sk-container-id-1 pre{padding: 0;}#sk-container-id-1 div.sk-toggleable {background-color: white;}#sk-container-id-1 label.sk-toggleable__label {cursor: pointer;display: block;width: 100%;margin-bottom: 0;padding: 0.3em;box-sizing: border-box;text-align: center;}#sk-container-id-1 label.sk-toggleable__label-arrow:before {content: \"▸\";float: left;margin-right: 0.25em;color: #696969;}#sk-container-id-1 label.sk-toggleable__label-arrow:hover:before {color: black;}#sk-container-id-1 div.sk-estimator:hover label.sk-toggleable__label-arrow:before {color: black;}#sk-container-id-1 div.sk-toggleable__content {max-height: 0;max-width: 0;overflow: hidden;text-align: left;background-color: #f0f8ff;}#sk-container-id-1 div.sk-toggleable__content pre {margin: 0.2em;color: black;border-radius: 0.25em;background-color: #f0f8ff;}#sk-container-id-1 input.sk-toggleable__control:checked~div.sk-toggleable__content {max-height: 200px;max-width: 100%;overflow: auto;}#sk-container-id-1 input.sk-toggleable__control:checked~label.sk-toggleable__label-arrow:before {content: \"▾\";}#sk-container-id-1 div.sk-estimator input.sk-toggleable__control:checked~label.sk-toggleable__label {background-color: #d4ebff;}#sk-container-id-1 div.sk-label input.sk-toggleable__control:checked~label.sk-toggleable__label {background-color: #d4ebff;}#sk-container-id-1 input.sk-hidden--visually {border: 0;clip: rect(1px 1px 1px 1px);clip: rect(1px, 1px, 1px, 1px);height: 1px;margin: -1px;overflow: hidden;padding: 0;position: absolute;width: 1px;}#sk-container-id-1 div.sk-estimator {font-family: monospace;background-color: #f0f8ff;border: 1px dotted black;border-radius: 0.25em;box-sizing: border-box;margin-bottom: 0.5em;}#sk-container-id-1 div.sk-estimator:hover {background-color: #d4ebff;}#sk-container-id-1 div.sk-parallel-item::after {content: \"\";width: 100%;border-bottom: 1px solid gray;flex-grow: 1;}#sk-container-id-1 div.sk-label:hover label.sk-toggleable__label {background-color: #d4ebff;}#sk-container-id-1 div.sk-serial::before {content: \"\";position: absolute;border-left: 1px solid gray;box-sizing: border-box;top: 0;bottom: 0;left: 50%;z-index: 0;}#sk-container-id-1 div.sk-serial {display: flex;flex-direction: column;align-items: center;background-color: white;padding-right: 0.2em;padding-left: 0.2em;position: relative;}#sk-container-id-1 div.sk-item {position: relative;z-index: 1;}#sk-container-id-1 div.sk-parallel {display: flex;align-items: stretch;justify-content: center;background-color: white;position: relative;}#sk-container-id-1 div.sk-item::before, #sk-container-id-1 div.sk-parallel-item::before {content: \"\";position: absolute;border-left: 1px solid gray;box-sizing: border-box;top: 0;bottom: 0;left: 50%;z-index: -1;}#sk-container-id-1 div.sk-parallel-item {display: flex;flex-direction: column;z-index: 1;position: relative;background-color: white;}#sk-container-id-1 div.sk-parallel-item:first-child::after {align-self: flex-end;width: 50%;}#sk-container-id-1 div.sk-parallel-item:last-child::after {align-self: flex-start;width: 50%;}#sk-container-id-1 div.sk-parallel-item:only-child::after {width: 0;}#sk-container-id-1 div.sk-dashed-wrapped {border: 1px dashed gray;margin: 0 0.4em 0.5em 0.4em;box-sizing: border-box;padding-bottom: 0.4em;background-color: white;}#sk-container-id-1 div.sk-label label {font-family: monospace;font-weight: bold;display: inline-block;line-height: 1.2em;}#sk-container-id-1 div.sk-label-container {text-align: center;}#sk-container-id-1 div.sk-container {/* jupyter's `normalize.less` sets `[hidden] { display: none; }` but bootstrap.min.css set `[hidden] { display: none !important; }` so we also need the `!important` here to be able to override the default hidden behavior on the sphinx rendered scikit-learn.org. See: https://github.com/scikit-learn/scikit-learn/issues/21755 */display: inline-block !important;position: relative;}#sk-container-id-1 div.sk-text-repr-fallback {display: none;}</style><div id=\"sk-container-id-1\" class=\"sk-top-container\"><div class=\"sk-text-repr-fallback\"><pre>LGBMClassifier(bagging_fraction=0.6, feature_fraction=0.75, max_depth=7,\n",
       "               min_data_in_leaf=30, num_leaves=56, random_state=0)</pre><b>In a Jupyter environment, please rerun this cell to show the HTML representation or trust the notebook. <br />On GitHub, the HTML representation is unable to render, please try loading this page with nbviewer.org.</b></div><div class=\"sk-container\" hidden><div class=\"sk-item\"><div class=\"sk-estimator sk-toggleable\"><input class=\"sk-toggleable__control sk-hidden--visually\" id=\"sk-estimator-id-1\" type=\"checkbox\" checked><label for=\"sk-estimator-id-1\" class=\"sk-toggleable__label sk-toggleable__label-arrow\">LGBMClassifier</label><div class=\"sk-toggleable__content\"><pre>LGBMClassifier(bagging_fraction=0.6, feature_fraction=0.75, max_depth=7,\n",
       "               min_data_in_leaf=30, num_leaves=56, random_state=0)</pre></div></div></div></div></div>"
      ],
      "text/plain": [
       "LGBMClassifier(bagging_fraction=0.6, feature_fraction=0.75, max_depth=7,\n",
       "               min_data_in_leaf=30, num_leaves=56, random_state=0)"
      ]
     },
     "execution_count": 15,
     "metadata": {},
     "output_type": "execute_result"
    }
   ],
   "source": [
    "# 데이터를 학습/테스트 세트로 분리\n",
    "X_train, X_test, y_train, y_test, member_ids_train, member_ids_test = train_test_split(X, y, member_ids, test_size=0.2, random_state=0)\n",
    "\n",
    "# LightGBM 모델 학습\n",
    "model = LGBMClassifier(num_leaves=56,\n",
    "                       min_data_in_leaf=30,\n",
    "                       max_depth=7,\n",
    "                       bagging_fraction=0.6,\n",
    "                       feature_fraction=0.75,\n",
    "                       random_state=0)\n",
    "model.fit(X_train.reshape(X_train.shape[0], -1), y_train)"
   ]
  },
  {
   "cell_type": "code",
   "execution_count": 16,
   "id": "877d79b2",
   "metadata": {
    "scrolled": true
   },
   "outputs": [
    {
     "name": "stdout",
     "output_type": "stream",
     "text": [
      "Accuracy Score: 0.8630683790350573\n"
     ]
    }
   ],
   "source": [
    "# 모델 평가\n",
    "y_pred = model.predict(X_test.reshape(X_test.shape[0], -1))\n",
    "\n",
    "last_purchase = {}\n",
    "for member_id in df['Customer_ID'].unique():\n",
    "    member_df = df[df['Customer_ID'] == member_id].sort_values('Order_Date')\n",
    "    last_purchase_date = member_df.iloc[-1]['Order_Date']\n",
    "    last_purchase_products = member_df[member_df['Order_Date'] == last_purchase_date]['CTG'].unique()\n",
    "    last_purchase[member_id] = last_purchase_products\n",
    "\n",
    "correct = []\n",
    "for i in range(len(y_pred)):\n",
    "    if y_pred[i] in last_purchase[member_ids_test[i]]:\n",
    "        correct.append(1)\n",
    "    else:\n",
    "        correct.append(0)\n",
    "\n",
    "# 정확도 계산\n",
    "accuracy = sum(correct) / len(correct)\n",
    "print('Accuracy Score:', accuracy)"
   ]
  },
  {
   "cell_type": "code",
   "execution_count": 17,
   "id": "8b701d5b",
   "metadata": {},
   "outputs": [],
   "source": [
    "results_df = pd.DataFrame(columns=['Customer_ID', 'Predicted_CTG'])\n",
    "\n",
    "for member_id in df['Customer_ID'].unique():\n",
    "    # Get the data for the current MemberID\n",
    "    member_df = df[df['Customer_ID'] == member_id].sort_values('Order_Date')\n",
    "    \n",
    "    X2 = member_df[['Product_No','CTG', 'Sub_CTG']].values\n",
    "    X2 = pad_sequences(X2[np.newaxis,:,:], maxlen=maxlen, dtype='float32')\n",
    "    X2[np.isnan(X2)] = 0\n",
    "    X2 = X2.reshape(1, -1)\n",
    "    \n",
    "    y_pred2 = model.predict(X2)\n",
    "    \n",
    "    results_df = pd.concat([results_df, pd.DataFrame({'Customer_ID': [member_id], 'Predicted_CTG': [y_pred2[0]]})], ignore_index=True)"
   ]
  },
  {
   "cell_type": "code",
   "execution_count": 18,
   "id": "761b9e6d",
   "metadata": {},
   "outputs": [],
   "source": [
    "Sector_df = pd.DataFrame(columns=['Cutomer_ID', 'A', 'B', 'C', 'D', 'E'])\n",
    "\n",
    "for member_id in df['Customer_ID'].unique():\n",
    "    # Get the purchase history for the current customer\n",
    "    member_df2 = df[df['Customer_ID'] == member_id].sort_values('Order_Date')\n",
    "    \n",
    "    # 섹터별 구매 빈도 확인\n",
    "    sector_counts = member_df2['Sector'].value_counts()\n",
    "    \n",
    "    Sector_df = pd.concat([Sector_df, pd.DataFrame({\n",
    "        'Customer_ID': [member_id],\n",
    "        'A': [sector_counts.get('A', 0)],\n",
    "        'B': [sector_counts.get('B', 0)],\n",
    "        'C': [sector_counts.get('C', 0)],\n",
    "        'D': [sector_counts.get('D', 0)],\n",
    "        'E': [sector_counts.get('E', 0)]\n",
    "    })], ignore_index=True)"
   ]
  },
  {
   "cell_type": "code",
   "execution_count": 19,
   "id": "ffb88948",
   "metadata": {
    "scrolled": false
   },
   "outputs": [],
   "source": [
    "summary_df = pd.merge(Sector_df,results_df, on = 'Customer_ID', how = 'inner')"
   ]
  },
  {
   "cell_type": "code",
   "execution_count": 20,
   "id": "0230112a",
   "metadata": {},
   "outputs": [],
   "source": [
    "summary_df['Predicted_CTG'] = summary_df['Predicted_CTG'].astype(int)\n",
    "summary_df['Predicted_CTG'] = encoder1.inverse_transform(summary_df['Predicted_CTG'])"
   ]
  },
  {
   "cell_type": "code",
   "execution_count": 21,
   "id": "b12a2439",
   "metadata": {
    "scrolled": true
   },
   "outputs": [
    {
     "data": {
      "text/html": [
       "<div>\n",
       "<style scoped>\n",
       "    .dataframe tbody tr th:only-of-type {\n",
       "        vertical-align: middle;\n",
       "    }\n",
       "\n",
       "    .dataframe tbody tr th {\n",
       "        vertical-align: top;\n",
       "    }\n",
       "\n",
       "    .dataframe thead th {\n",
       "        text-align: right;\n",
       "    }\n",
       "</style>\n",
       "<table border=\"1\" class=\"dataframe\">\n",
       "  <thead>\n",
       "    <tr style=\"text-align: right;\">\n",
       "      <th></th>\n",
       "      <th>Cutomer_ID</th>\n",
       "      <th>A</th>\n",
       "      <th>B</th>\n",
       "      <th>C</th>\n",
       "      <th>D</th>\n",
       "      <th>E</th>\n",
       "      <th>Customer_ID</th>\n",
       "      <th>Predicted_CTG</th>\n",
       "    </tr>\n",
       "  </thead>\n",
       "  <tbody>\n",
       "    <tr>\n",
       "      <th>0</th>\n",
       "      <td>NaN</td>\n",
       "      <td>0</td>\n",
       "      <td>0</td>\n",
       "      <td>0</td>\n",
       "      <td>2</td>\n",
       "      <td>0</td>\n",
       "      <td>861344.0</td>\n",
       "      <td>DA</td>\n",
       "    </tr>\n",
       "    <tr>\n",
       "      <th>1</th>\n",
       "      <td>NaN</td>\n",
       "      <td>0</td>\n",
       "      <td>0</td>\n",
       "      <td>0</td>\n",
       "      <td>2</td>\n",
       "      <td>0</td>\n",
       "      <td>383657.0</td>\n",
       "      <td>DA</td>\n",
       "    </tr>\n",
       "    <tr>\n",
       "      <th>2</th>\n",
       "      <td>NaN</td>\n",
       "      <td>0</td>\n",
       "      <td>0</td>\n",
       "      <td>0</td>\n",
       "      <td>4</td>\n",
       "      <td>0</td>\n",
       "      <td>964428.0</td>\n",
       "      <td>DA</td>\n",
       "    </tr>\n",
       "    <tr>\n",
       "      <th>3</th>\n",
       "      <td>NaN</td>\n",
       "      <td>0</td>\n",
       "      <td>0</td>\n",
       "      <td>0</td>\n",
       "      <td>3</td>\n",
       "      <td>0</td>\n",
       "      <td>792101.0</td>\n",
       "      <td>DA</td>\n",
       "    </tr>\n",
       "    <tr>\n",
       "      <th>4</th>\n",
       "      <td>NaN</td>\n",
       "      <td>0</td>\n",
       "      <td>0</td>\n",
       "      <td>1</td>\n",
       "      <td>1</td>\n",
       "      <td>0</td>\n",
       "      <td>438720.0</td>\n",
       "      <td>DA</td>\n",
       "    </tr>\n",
       "    <tr>\n",
       "      <th>...</th>\n",
       "      <td>...</td>\n",
       "      <td>...</td>\n",
       "      <td>...</td>\n",
       "      <td>...</td>\n",
       "      <td>...</td>\n",
       "      <td>...</td>\n",
       "      <td>...</td>\n",
       "      <td>...</td>\n",
       "    </tr>\n",
       "    <tr>\n",
       "      <th>18438</th>\n",
       "      <td>NaN</td>\n",
       "      <td>0</td>\n",
       "      <td>0</td>\n",
       "      <td>0</td>\n",
       "      <td>2</td>\n",
       "      <td>0</td>\n",
       "      <td>230539.0</td>\n",
       "      <td>DA</td>\n",
       "    </tr>\n",
       "    <tr>\n",
       "      <th>18439</th>\n",
       "      <td>NaN</td>\n",
       "      <td>0</td>\n",
       "      <td>0</td>\n",
       "      <td>0</td>\n",
       "      <td>3</td>\n",
       "      <td>0</td>\n",
       "      <td>809032.0</td>\n",
       "      <td>DA</td>\n",
       "    </tr>\n",
       "    <tr>\n",
       "      <th>18440</th>\n",
       "      <td>NaN</td>\n",
       "      <td>0</td>\n",
       "      <td>0</td>\n",
       "      <td>0</td>\n",
       "      <td>4</td>\n",
       "      <td>0</td>\n",
       "      <td>331515.0</td>\n",
       "      <td>DA</td>\n",
       "    </tr>\n",
       "    <tr>\n",
       "      <th>18441</th>\n",
       "      <td>NaN</td>\n",
       "      <td>0</td>\n",
       "      <td>0</td>\n",
       "      <td>2</td>\n",
       "      <td>0</td>\n",
       "      <td>0</td>\n",
       "      <td>444315.0</td>\n",
       "      <td>CA</td>\n",
       "    </tr>\n",
       "    <tr>\n",
       "      <th>18442</th>\n",
       "      <td>NaN</td>\n",
       "      <td>0</td>\n",
       "      <td>0</td>\n",
       "      <td>3</td>\n",
       "      <td>0</td>\n",
       "      <td>0</td>\n",
       "      <td>352930.0</td>\n",
       "      <td>CB</td>\n",
       "    </tr>\n",
       "  </tbody>\n",
       "</table>\n",
       "<p>18443 rows × 8 columns</p>\n",
       "</div>"
      ],
      "text/plain": [
       "      Cutomer_ID  A  B  C  D  E Customer_ID Predicted_CTG\n",
       "0            NaN  0  0  0  2  0    861344.0            DA\n",
       "1            NaN  0  0  0  2  0    383657.0            DA\n",
       "2            NaN  0  0  0  4  0    964428.0            DA\n",
       "3            NaN  0  0  0  3  0    792101.0            DA\n",
       "4            NaN  0  0  1  1  0    438720.0            DA\n",
       "...          ... .. .. .. .. ..         ...           ...\n",
       "18438        NaN  0  0  0  2  0    230539.0            DA\n",
       "18439        NaN  0  0  0  3  0    809032.0            DA\n",
       "18440        NaN  0  0  0  4  0    331515.0            DA\n",
       "18441        NaN  0  0  2  0  0    444315.0            CA\n",
       "18442        NaN  0  0  3  0  0    352930.0            CB\n",
       "\n",
       "[18443 rows x 8 columns]"
      ]
     },
     "execution_count": 21,
     "metadata": {},
     "output_type": "execute_result"
    }
   ],
   "source": [
    "summary_df"
   ]
  },
  {
   "cell_type": "code",
   "execution_count": null,
   "id": "ccfa5a2d",
   "metadata": {},
   "outputs": [],
   "source": [
    "# Bayes Search 통한 Hyper Parameter Fine Tuning\n",
    "\n",
    "from skopt import BayesSearchCV\n",
    "from skopt.space import Real, Integer\n",
    "\n",
    "param_grid = {\n",
    "    'num_leaves': Integer(7, 63),\n",
    "    'min_data_in_leaf': Integer(1, 30),\n",
    "    'max_depth': Integer(-1, 7),\n",
    "    'bagging_fraction': Real(0.6, 0.9),\n",
    "    'feature_fraction': Real(0.6, 0.9)\n",
    "}\n",
    "\n",
    "# 베이지안 최적화\n",
    "model = LGBMClassifier(random_state=0)\n",
    "bayes_search = BayesSearchCV(model, param_grid, cv=5)\n",
    "bayes_search.fit(X_train.reshape(X_train.shape[0], -1), y_train)\n",
    "\n",
    "best_params = bayes_search.best_params_\n",
    "print('Best parameters:', best_params)\n",
    "\n",
    "# LightGBM 모델 학습\n",
    "model = LGBMClassifier(**best_params)\n",
    "model.fit(X_train.reshape(X_train.shape[0], -1), y_train)\n",
    "\n",
    "# 모델 평가\n",
    "y_pred = model.predict(X_test.reshape(X_test.shape[0], -1))\n",
    "print('Accuracy:', accuracy_score(y_test, y_pred))"
   ]
  },
  {
   "cell_type": "code",
   "execution_count": null,
   "id": "a5426aaa",
   "metadata": {
    "scrolled": true
   },
   "outputs": [],
   "source": [
    "from sklearn.metrics import confusion_matrix\n",
    "\n",
    "# Confusion Matrix 계산\n",
    "cm = confusion_matrix(y_test, y_pred)\n",
    "\n",
    "# Confusion Matrix DataFrame으로 변환\n",
    "cm_df = pd.DataFrame(cm, columns=[f'Predicted {c}' for c in encoder1.classes_], index=[f'Actual {c}' for c in encoder1.classes_])\n",
    "\n",
    "error_df = cm_df.stack().reset_index()\n",
    "error_df.columns = ['Actual Class', 'Predicted Class', 'Count']\n",
    "error_df = error_df[error_df['Actual Class'] != error_df['Predicted Class']].sort_values('Count', ascending=False)\n",
    "\n",
    "error_df['Actual Class'] = error_df['Actual Class'].str.replace('Actual ', '')\n",
    "error_df['Predicted Class'] = error_df['Predicted Class'].str.replace('Predicted ', '')\n",
    "\n",
    "\n",
    "error_df"
   ]
  },
  {
   "cell_type": "code",
   "execution_count": null,
   "id": "6965e640",
   "metadata": {},
   "outputs": [],
   "source": []
  }
 ],
 "metadata": {
  "kernelspec": {
   "display_name": "Python 3 (ipykernel)",
   "language": "python",
   "name": "python3"
  },
  "language_info": {
   "codemirror_mode": {
    "name": "ipython",
    "version": 3
   },
   "file_extension": ".py",
   "mimetype": "text/x-python",
   "name": "python",
   "nbconvert_exporter": "python",
   "pygments_lexer": "ipython3",
   "version": "3.10.9"
  }
 },
 "nbformat": 4,
 "nbformat_minor": 5
}
